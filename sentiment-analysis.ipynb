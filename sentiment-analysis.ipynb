{
 "cells": [
  {
   "cell_type": "code",
   "execution_count": 1,
   "id": "722ed534",
   "metadata": {
    "execution": {
     "iopub.execute_input": "2025-03-12T13:49:24.294747Z",
     "iopub.status.busy": "2025-03-12T13:49:24.294370Z",
     "iopub.status.idle": "2025-03-12T13:49:27.887729Z",
     "shell.execute_reply": "2025-03-12T13:49:27.886624Z"
    },
    "papermill": {
     "duration": 3.603804,
     "end_time": "2025-03-12T13:49:27.889665",
     "exception": false,
     "start_time": "2025-03-12T13:49:24.285861",
     "status": "completed"
    },
    "tags": []
   },
   "outputs": [],
   "source": [
    "import pandas as pd\n",
    "import numpy as np\n",
    "import matplotlib.pyplot as plt\n",
    "import seaborn as sns\n",
    "plt.style.use('ggplot')\n",
    "import nltk"
   ]
  },
  {
   "cell_type": "markdown",
   "id": "359b987c",
   "metadata": {
    "papermill": {
     "duration": 0.006415,
     "end_time": "2025-03-12T13:49:27.903331",
     "exception": false,
     "start_time": "2025-03-12T13:49:27.896916",
     "status": "completed"
    },
    "tags": []
   },
   "source": [
    "# Suppressing warning that may occur in the code"
   ]
  },
  {
   "cell_type": "code",
   "execution_count": 2,
   "id": "5671ede7",
   "metadata": {
    "execution": {
     "iopub.execute_input": "2025-03-12T13:49:27.918418Z",
     "iopub.status.busy": "2025-03-12T13:49:27.917711Z",
     "iopub.status.idle": "2025-03-12T13:49:28.080089Z",
     "shell.execute_reply": "2025-03-12T13:49:28.078563Z"
    },
    "papermill": {
     "duration": 0.171664,
     "end_time": "2025-03-12T13:49:28.081765",
     "exception": true,
     "start_time": "2025-03-12T13:49:27.910101",
     "status": "failed"
    },
    "tags": []
   },
   "outputs": [
    {
     "ename": "NameError",
     "evalue": "name 'df' is not defined",
     "output_type": "error",
     "traceback": [
      "\u001b[0;31m---------------------------------------------------------------------------\u001b[0m",
      "\u001b[0;31mNameError\u001b[0m                                 Traceback (most recent call last)",
      "\u001b[0;32m<ipython-input-2-4509cc6507f9>\u001b[0m in \u001b[0;36m<cell line: 7>\u001b[0;34m()\u001b[0m\n\u001b[1;32m      5\u001b[0m \u001b[0;34m\u001b[0m\u001b[0m\n\u001b[1;32m      6\u001b[0m \u001b[0;31m# Replace infinity values with NaN before operations\u001b[0m\u001b[0;34m\u001b[0m\u001b[0;34m\u001b[0m\u001b[0m\n\u001b[0;32m----> 7\u001b[0;31m \u001b[0mdf\u001b[0m\u001b[0;34m.\u001b[0m\u001b[0mreplace\u001b[0m\u001b[0;34m(\u001b[0m\u001b[0;34m[\u001b[0m\u001b[0mnp\u001b[0m\u001b[0;34m.\u001b[0m\u001b[0minf\u001b[0m\u001b[0;34m,\u001b[0m \u001b[0;34m-\u001b[0m\u001b[0mnp\u001b[0m\u001b[0;34m.\u001b[0m\u001b[0minf\u001b[0m\u001b[0;34m]\u001b[0m\u001b[0;34m,\u001b[0m \u001b[0mnp\u001b[0m\u001b[0;34m.\u001b[0m\u001b[0mnan\u001b[0m\u001b[0;34m,\u001b[0m \u001b[0minplace\u001b[0m\u001b[0;34m=\u001b[0m\u001b[0;32mTrue\u001b[0m\u001b[0;34m)\u001b[0m\u001b[0;34m\u001b[0m\u001b[0;34m\u001b[0m\u001b[0m\n\u001b[0m",
      "\u001b[0;31mNameError\u001b[0m: name 'df' is not defined"
     ]
    }
   ],
   "source": [
    "import warnings\n",
    "warnings.simplefilter(\"ignore\", UserWarning)\n",
    "# Suppress FutureWarnings\n",
    "warnings.simplefilter(action='ignore', category=FutureWarning)\n",
    "\n",
    "# Replace infinity values with NaN before operations\n",
    "df.replace([np.inf, -np.inf], np.nan, inplace=True)"
   ]
  },
  {
   "cell_type": "code",
   "execution_count": null,
   "id": "007d4a03",
   "metadata": {
    "execution": {
     "iopub.execute_input": "2025-03-12T13:46:43.687752Z",
     "iopub.status.busy": "2025-03-12T13:46:43.687221Z",
     "iopub.status.idle": "2025-03-12T13:46:48.451108Z",
     "shell.execute_reply": "2025-03-12T13:46:48.449914Z",
     "shell.execute_reply.started": "2025-03-12T13:46:43.687707Z"
    },
    "papermill": {
     "duration": null,
     "end_time": null,
     "exception": null,
     "start_time": null,
     "status": "pending"
    },
    "tags": []
   },
   "outputs": [],
   "source": [
    "#read in the data\n",
    "df = pd.read_csv('../input/reviews/Reviews.csv');\n",
    "print(df.shape);\n",
    "df = df.head(300);\n",
    "print(df.shape)"
   ]
  },
  {
   "cell_type": "code",
   "execution_count": null,
   "id": "0bf149ca",
   "metadata": {
    "execution": {
     "iopub.execute_input": "2025-03-12T13:46:48.452893Z",
     "iopub.status.busy": "2025-03-12T13:46:48.452550Z",
     "iopub.status.idle": "2025-03-12T13:46:48.459586Z",
     "shell.execute_reply": "2025-03-12T13:46:48.458261Z",
     "shell.execute_reply.started": "2025-03-12T13:46:48.452865Z"
    },
    "papermill": {
     "duration": null,
     "end_time": null,
     "exception": null,
     "start_time": null,
     "status": "pending"
    },
    "tags": []
   },
   "outputs": [],
   "source": [
    "df['Text'].values[0]"
   ]
  },
  {
   "cell_type": "code",
   "execution_count": null,
   "id": "16228878",
   "metadata": {
    "execution": {
     "iopub.execute_input": "2025-03-12T13:46:48.461373Z",
     "iopub.status.busy": "2025-03-12T13:46:48.460969Z",
     "iopub.status.idle": "2025-03-12T13:46:48.687750Z",
     "shell.execute_reply": "2025-03-12T13:46:48.686507Z",
     "shell.execute_reply.started": "2025-03-12T13:46:48.461332Z"
    },
    "papermill": {
     "duration": null,
     "end_time": null,
     "exception": null,
     "start_time": null,
     "status": "pending"
    },
    "tags": []
   },
   "outputs": [],
   "source": [
    "## Just plotting the review based on stars\n",
    "ax = df['Score'].value_counts().sort_index().plot(\n",
    "    kind = 'bar', title = 'count be ratings',figsize = (10,5));\n",
    "ax.set_xlabel('ratings');\n",
    "plt.show()"
   ]
  },
  {
   "cell_type": "code",
   "execution_count": null,
   "id": "635685c9",
   "metadata": {
    "execution": {
     "iopub.execute_input": "2025-03-12T13:46:48.689303Z",
     "iopub.status.busy": "2025-03-12T13:46:48.688918Z",
     "iopub.status.idle": "2025-03-12T13:46:48.695259Z",
     "shell.execute_reply": "2025-03-12T13:46:48.694014Z",
     "shell.execute_reply.started": "2025-03-12T13:46:48.689265Z"
    },
    "papermill": {
     "duration": null,
     "end_time": null,
     "exception": null,
     "start_time": null,
     "status": "pending"
    },
    "tags": []
   },
   "outputs": [],
   "source": [
    "## do the basic nltk \n",
    "example = df['Text'][43]\n",
    "print(example)"
   ]
  },
  {
   "cell_type": "code",
   "execution_count": null,
   "id": "ae2c2d96",
   "metadata": {
    "execution": {
     "iopub.execute_input": "2025-03-12T13:46:48.698329Z",
     "iopub.status.busy": "2025-03-12T13:46:48.698048Z",
     "iopub.status.idle": "2025-03-12T13:46:48.717064Z",
     "shell.execute_reply": "2025-03-12T13:46:48.715925Z",
     "shell.execute_reply.started": "2025-03-12T13:46:48.698305Z"
    },
    "papermill": {
     "duration": null,
     "end_time": null,
     "exception": null,
     "start_time": null,
     "status": "pending"
    },
    "tags": []
   },
   "outputs": [],
   "source": [
    "tokens = nltk.word_tokenize(example)\n",
    "tokens[:10]"
   ]
  },
  {
   "cell_type": "code",
   "execution_count": null,
   "id": "cfb00b14",
   "metadata": {
    "execution": {
     "iopub.execute_input": "2025-03-12T13:46:48.719441Z",
     "iopub.status.busy": "2025-03-12T13:46:48.719045Z",
     "iopub.status.idle": "2025-03-12T13:46:48.741050Z",
     "shell.execute_reply": "2025-03-12T13:46:48.739972Z",
     "shell.execute_reply.started": "2025-03-12T13:46:48.719405Z"
    },
    "papermill": {
     "duration": null,
     "end_time": null,
     "exception": null,
     "start_time": null,
     "status": "pending"
    },
    "tags": []
   },
   "outputs": [],
   "source": [
    "tagged = nltk.pos_tag(tokens)\n",
    "tagged[:10]"
   ]
  },
  {
   "cell_type": "code",
   "execution_count": null,
   "id": "14be4ca2",
   "metadata": {
    "execution": {
     "iopub.execute_input": "2025-03-12T13:46:48.742321Z",
     "iopub.status.busy": "2025-03-12T13:46:48.742059Z",
     "iopub.status.idle": "2025-03-12T13:46:48.774393Z",
     "shell.execute_reply": "2025-03-12T13:46:48.773206Z",
     "shell.execute_reply.started": "2025-03-12T13:46:48.742297Z"
    },
    "papermill": {
     "duration": null,
     "end_time": null,
     "exception": null,
     "start_time": null,
     "status": "pending"
    },
    "tags": []
   },
   "outputs": [],
   "source": [
    "entities = nltk.chunk.ne_chunk(tagged)\n",
    "entities.pprint()"
   ]
  },
  {
   "cell_type": "markdown",
   "id": "a2f613ed",
   "metadata": {
    "papermill": {
     "duration": null,
     "end_time": null,
     "exception": null,
     "start_time": null,
     "status": "pending"
    },
    "tags": []
   },
   "source": [
    "## VADER EVALUATIONS\n"
   ]
  },
  {
   "cell_type": "code",
   "execution_count": null,
   "id": "77e03a05",
   "metadata": {
    "execution": {
     "iopub.execute_input": "2025-03-12T13:46:48.775847Z",
     "iopub.status.busy": "2025-03-12T13:46:48.775544Z",
     "iopub.status.idle": "2025-03-12T13:46:48.808165Z",
     "shell.execute_reply": "2025-03-12T13:46:48.807092Z",
     "shell.execute_reply.started": "2025-03-12T13:46:48.775819Z"
    },
    "papermill": {
     "duration": null,
     "end_time": null,
     "exception": null,
     "start_time": null,
     "status": "pending"
    },
    "tags": []
   },
   "outputs": [],
   "source": [
    "from nltk.sentiment import SentimentIntensityAnalyzer\n",
    "from tqdm.notebook import tqdm\n",
    "\n",
    "sia = SentimentIntensityAnalyzer()"
   ]
  },
  {
   "cell_type": "code",
   "execution_count": null,
   "id": "c949a6b2",
   "metadata": {
    "execution": {
     "iopub.execute_input": "2025-03-12T13:46:48.809833Z",
     "iopub.status.busy": "2025-03-12T13:46:48.809402Z",
     "iopub.status.idle": "2025-03-12T13:46:48.829087Z",
     "shell.execute_reply": "2025-03-12T13:46:48.827927Z",
     "shell.execute_reply.started": "2025-03-12T13:46:48.809785Z"
    },
    "papermill": {
     "duration": null,
     "end_time": null,
     "exception": null,
     "start_time": null,
     "status": "pending"
    },
    "tags": []
   },
   "outputs": [],
   "source": [
    "sia.polarity_scores('this is a positive as well as a negative review')"
   ]
  },
  {
   "cell_type": "code",
   "execution_count": null,
   "id": "68ec732a",
   "metadata": {
    "execution": {
     "iopub.execute_input": "2025-03-12T13:46:48.830609Z",
     "iopub.status.busy": "2025-03-12T13:46:48.830300Z",
     "iopub.status.idle": "2025-03-12T13:46:48.848280Z",
     "shell.execute_reply": "2025-03-12T13:46:48.847197Z",
     "shell.execute_reply.started": "2025-03-12T13:46:48.830569Z"
    },
    "papermill": {
     "duration": null,
     "end_time": null,
     "exception": null,
     "start_time": null,
     "status": "pending"
    },
    "tags": []
   },
   "outputs": [],
   "source": [
    "sia.polarity_scores(example)"
   ]
  },
  {
   "cell_type": "code",
   "execution_count": null,
   "id": "896eaf38",
   "metadata": {
    "execution": {
     "iopub.execute_input": "2025-03-12T13:46:48.849942Z",
     "iopub.status.busy": "2025-03-12T13:46:48.849517Z",
     "iopub.status.idle": "2025-03-12T13:46:49.182384Z",
     "shell.execute_reply": "2025-03-12T13:46:49.181248Z",
     "shell.execute_reply.started": "2025-03-12T13:46:48.849900Z"
    },
    "papermill": {
     "duration": null,
     "end_time": null,
     "exception": null,
     "start_time": null,
     "status": "pending"
    },
    "tags": []
   },
   "outputs": [],
   "source": [
    "# run the polarity score check on the entire dataset\n",
    "res = {}\n",
    "for i , row in tqdm(df.iterrows() , total = len(df)):\n",
    "    text = row['Text']\n",
    "    myId = row['Id']\n",
    "    res[myId] = sia.polarity_scores(text)"
   ]
  },
  {
   "cell_type": "code",
   "execution_count": null,
   "id": "90acfef1",
   "metadata": {
    "execution": {
     "iopub.execute_input": "2025-03-12T13:46:49.183830Z",
     "iopub.status.busy": "2025-03-12T13:46:49.183476Z",
     "iopub.status.idle": "2025-03-12T13:46:49.201516Z",
     "shell.execute_reply": "2025-03-12T13:46:49.200172Z",
     "shell.execute_reply.started": "2025-03-12T13:46:49.183787Z"
    },
    "papermill": {
     "duration": null,
     "end_time": null,
     "exception": null,
     "start_time": null,
     "status": "pending"
    },
    "tags": []
   },
   "outputs": [],
   "source": [
    "vaders = pd.DataFrame(res).T\n",
    "vaders = vaders.reset_index().rename(columns = {'index':'Id'})\n",
    "vaders = vaders.merge(df,how = 'left')"
   ]
  },
  {
   "cell_type": "code",
   "execution_count": null,
   "id": "56a8cb00",
   "metadata": {
    "execution": {
     "iopub.execute_input": "2025-03-12T13:46:49.203169Z",
     "iopub.status.busy": "2025-03-12T13:46:49.202773Z",
     "iopub.status.idle": "2025-03-12T13:46:49.219767Z",
     "shell.execute_reply": "2025-03-12T13:46:49.218604Z",
     "shell.execute_reply.started": "2025-03-12T13:46:49.203137Z"
    },
    "papermill": {
     "duration": null,
     "end_time": null,
     "exception": null,
     "start_time": null,
     "status": "pending"
    },
    "tags": []
   },
   "outputs": [],
   "source": [
    "# now we have both sentiment data and the metadata together\n",
    "vaders.head()"
   ]
  },
  {
   "cell_type": "code",
   "execution_count": null,
   "id": "ef1d9d69",
   "metadata": {
    "execution": {
     "iopub.execute_input": "2025-03-12T13:46:49.221238Z",
     "iopub.status.busy": "2025-03-12T13:46:49.220938Z",
     "iopub.status.idle": "2025-03-12T13:46:49.515694Z",
     "shell.execute_reply": "2025-03-12T13:46:49.514506Z",
     "shell.execute_reply.started": "2025-03-12T13:46:49.221214Z"
    },
    "papermill": {
     "duration": null,
     "end_time": null,
     "exception": null,
     "start_time": null,
     "status": "pending"
    },
    "tags": []
   },
   "outputs": [],
   "source": [
    "ax = sns.barplot(data = vaders , x = \"Score\",y = 'compound')\n",
    "ax.set_title('Compound Score by ratings')\n",
    "plt.show()"
   ]
  },
  {
   "cell_type": "code",
   "execution_count": null,
   "id": "e89a750b",
   "metadata": {
    "execution": {
     "iopub.execute_input": "2025-03-12T13:46:49.516973Z",
     "iopub.status.busy": "2025-03-12T13:46:49.516706Z",
     "iopub.status.idle": "2025-03-12T13:46:50.332254Z",
     "shell.execute_reply": "2025-03-12T13:46:50.331109Z",
     "shell.execute_reply.started": "2025-03-12T13:46:49.516948Z"
    },
    "papermill": {
     "duration": null,
     "end_time": null,
     "exception": null,
     "start_time": null,
     "status": "pending"
    },
    "tags": []
   },
   "outputs": [],
   "source": [
    "fig , axs = plt.subplots(1,3,figsize = (11,3))\n",
    "sns.barplot(data = vaders, x = 'Score' , y = 'pos',ax = axs[0] )\n",
    "sns.barplot(data = vaders, x = 'Score' , y = 'neu',ax = axs[1] )\n",
    "sns.barplot(data = vaders, x = 'Score' , y = 'neg',ax = axs[2] )\n",
    "axs[0].set_title('Positive')\n",
    "axs[1].set_title('Neutral')\n",
    "axs[2].set_title('Negative')\n",
    "plt.show()"
   ]
  },
  {
   "cell_type": "markdown",
   "id": "a4c9f828",
   "metadata": {
    "papermill": {
     "duration": null,
     "end_time": null,
     "exception": null,
     "start_time": null,
     "status": "pending"
    },
    "tags": []
   },
   "source": [
    "# Roberta Pretrained Model\n",
    "* use a model trained of a large corpus of data\n",
    "* Transform model accounts for the words but also the context realted to other words "
   ]
  },
  {
   "cell_type": "code",
   "execution_count": null,
   "id": "9681d02b",
   "metadata": {
    "execution": {
     "iopub.execute_input": "2025-03-12T13:46:50.333593Z",
     "iopub.status.busy": "2025-03-12T13:46:50.333300Z",
     "iopub.status.idle": "2025-03-12T13:46:50.338471Z",
     "shell.execute_reply": "2025-03-12T13:46:50.337246Z",
     "shell.execute_reply.started": "2025-03-12T13:46:50.333567Z"
    },
    "papermill": {
     "duration": null,
     "end_time": null,
     "exception": null,
     "start_time": null,
     "status": "pending"
    },
    "tags": []
   },
   "outputs": [],
   "source": [
    "from transformers import AutoTokenizer\n",
    "from transformers import AutoModelForSequenceClassification\n",
    "from scipy.special import softmax"
   ]
  },
  {
   "cell_type": "code",
   "execution_count": null,
   "id": "8739ead4",
   "metadata": {
    "execution": {
     "iopub.execute_input": "2025-03-12T13:46:50.342940Z",
     "iopub.status.busy": "2025-03-12T13:46:50.342564Z",
     "iopub.status.idle": "2025-03-12T13:46:51.667008Z",
     "shell.execute_reply": "2025-03-12T13:46:51.664262Z",
     "shell.execute_reply.started": "2025-03-12T13:46:50.342907Z"
    },
    "papermill": {
     "duration": null,
     "end_time": null,
     "exception": null,
     "start_time": null,
     "status": "pending"
    },
    "tags": []
   },
   "outputs": [],
   "source": [
    "MODEL = f\"cardiffnlp/twitter-roberta-base-sentiment\"\n",
    "tokenizer = AutoTokenizer.from_pretrained(MODEL)\n",
    "model = AutoModelForSequenceClassification.from_pretrained(MODEL)"
   ]
  },
  {
   "cell_type": "code",
   "execution_count": null,
   "id": "39582ded",
   "metadata": {
    "execution": {
     "iopub.execute_input": "2025-03-12T13:46:51.671907Z",
     "iopub.status.busy": "2025-03-12T13:46:51.671450Z",
     "iopub.status.idle": "2025-03-12T13:46:51.685175Z",
     "shell.execute_reply": "2025-03-12T13:46:51.683867Z",
     "shell.execute_reply.started": "2025-03-12T13:46:51.671854Z"
    },
    "papermill": {
     "duration": null,
     "end_time": null,
     "exception": null,
     "start_time": null,
     "status": "pending"
    },
    "tags": []
   },
   "outputs": [],
   "source": [
    "#vader results on example\n",
    "print(example)\n",
    "sia.polarity_scores(example)"
   ]
  },
  {
   "cell_type": "code",
   "execution_count": null,
   "id": "342485f7",
   "metadata": {
    "execution": {
     "iopub.execute_input": "2025-03-12T13:46:51.687357Z",
     "iopub.status.busy": "2025-03-12T13:46:51.686936Z",
     "iopub.status.idle": "2025-03-12T13:46:51.980610Z",
     "shell.execute_reply": "2025-03-12T13:46:51.979171Z",
     "shell.execute_reply.started": "2025-03-12T13:46:51.687313Z"
    },
    "papermill": {
     "duration": null,
     "end_time": null,
     "exception": null,
     "start_time": null,
     "status": "pending"
    },
    "tags": []
   },
   "outputs": [],
   "source": [
    "encoded_text = tokenizer(example , return_tensors = 'pt')\n",
    "output = model(**encoded_text)\n",
    "scores = output[0][0].detach().numpy()\n",
    "scores = softmax(scores)\n",
    "scores_dict = {'roberta_neg' : scores[0],\n",
    "              'roberta_neu' : scores[1],\n",
    "              'roberta_neg' : scores[2]}"
   ]
  },
  {
   "cell_type": "code",
   "execution_count": null,
   "id": "34fc7531",
   "metadata": {
    "execution": {
     "iopub.execute_input": "2025-03-12T13:46:51.982072Z",
     "iopub.status.busy": "2025-03-12T13:46:51.981743Z",
     "iopub.status.idle": "2025-03-12T13:46:51.989047Z",
     "shell.execute_reply": "2025-03-12T13:46:51.987319Z",
     "shell.execute_reply.started": "2025-03-12T13:46:51.982045Z"
    },
    "papermill": {
     "duration": null,
     "end_time": null,
     "exception": null,
     "start_time": null,
     "status": "pending"
    },
    "tags": []
   },
   "outputs": [],
   "source": [
    "def polarity_scores_roberta(example):\n",
    "    encoded_text = tokenizer(example , return_tensors = 'pt')\n",
    "    output = model(**encoded_text)\n",
    "    scores = output[0][0].detach().numpy()\n",
    "    scores = softmax(scores)\n",
    "    scores_dict = {\n",
    "              'roberta_neg' : scores[0],\n",
    "              'roberta_neu' : scores[1],\n",
    "              'roberta_pos' : scores[2]}\n",
    "    return scores_dict"
   ]
  },
  {
   "cell_type": "code",
   "execution_count": null,
   "id": "54c79e83",
   "metadata": {
    "execution": {
     "iopub.execute_input": "2025-03-12T13:46:51.991358Z",
     "iopub.status.busy": "2025-03-12T13:46:51.990993Z",
     "iopub.status.idle": "2025-03-12T13:47:52.824517Z",
     "shell.execute_reply": "2025-03-12T13:47:52.823326Z",
     "shell.execute_reply.started": "2025-03-12T13:46:51.991324Z"
    },
    "papermill": {
     "duration": null,
     "end_time": null,
     "exception": null,
     "start_time": null,
     "status": "pending"
    },
    "tags": []
   },
   "outputs": [],
   "source": [
    "res = {}\n",
    "for i , row in tqdm(df.iterrows() , total = len(df)):\n",
    " try:\n",
    "    text = row['Text']\n",
    "    myId = row['Id']\n",
    "    vader_result = sia.polarity_scores(text)\n",
    "    vader_result_rename = {}\n",
    "    for key , value in vader_result.items():\n",
    "        vader_result_rename[f\"vader_{key}\"] = value\n",
    "    roberta_result = polarity_scores_roberta(text)\n",
    "    both = {**vader_result_rename , **roberta_result}\n",
    "    res[myId] = both\n",
    " except RuntimeError:\n",
    "    print(f'Broke for id {myId}')\n",
    "    "
   ]
  },
  {
   "cell_type": "code",
   "execution_count": null,
   "id": "530aa7be",
   "metadata": {
    "execution": {
     "iopub.execute_input": "2025-03-12T13:47:52.826333Z",
     "iopub.status.busy": "2025-03-12T13:47:52.825713Z",
     "iopub.status.idle": "2025-03-12T13:47:52.847581Z",
     "shell.execute_reply": "2025-03-12T13:47:52.846442Z",
     "shell.execute_reply.started": "2025-03-12T13:47:52.826303Z"
    },
    "papermill": {
     "duration": null,
     "end_time": null,
     "exception": null,
     "start_time": null,
     "status": "pending"
    },
    "tags": []
   },
   "outputs": [],
   "source": [
    "result_df = pd.DataFrame(res).T\n",
    "result_df = result_df.reset_index().rename(columns = {'index':'Id'})\n",
    "result_df = result_df.merge(df,how = 'left')"
   ]
  },
  {
   "cell_type": "markdown",
   "id": "77dc7004",
   "metadata": {
    "papermill": {
     "duration": null,
     "end_time": null,
     "exception": null,
     "start_time": null,
     "status": "pending"
    },
    "tags": []
   },
   "source": [
    "# Compare Scores between models"
   ]
  },
  {
   "cell_type": "code",
   "execution_count": null,
   "id": "2ffc6117",
   "metadata": {
    "execution": {
     "iopub.execute_input": "2025-03-12T13:47:52.849516Z",
     "iopub.status.busy": "2025-03-12T13:47:52.849207Z",
     "iopub.status.idle": "2025-03-12T13:47:52.856314Z",
     "shell.execute_reply": "2025-03-12T13:47:52.855377Z",
     "shell.execute_reply.started": "2025-03-12T13:47:52.849488Z"
    },
    "papermill": {
     "duration": null,
     "end_time": null,
     "exception": null,
     "start_time": null,
     "status": "pending"
    },
    "tags": []
   },
   "outputs": [],
   "source": [
    "result_df.columns"
   ]
  },
  {
   "cell_type": "code",
   "execution_count": null,
   "id": "96badb1a",
   "metadata": {
    "execution": {
     "iopub.execute_input": "2025-03-12T13:47:52.857630Z",
     "iopub.status.busy": "2025-03-12T13:47:52.857349Z",
     "iopub.status.idle": "2025-03-12T13:48:14.507604Z",
     "shell.execute_reply": "2025-03-12T13:48:14.506372Z",
     "shell.execute_reply.started": "2025-03-12T13:47:52.857606Z"
    },
    "papermill": {
     "duration": null,
     "end_time": null,
     "exception": null,
     "start_time": null,
     "status": "pending"
    },
    "tags": []
   },
   "outputs": [],
   "source": [
    "sns.pairplot(data = result_df , vars = ['vader_neg', 'vader_neu', 'vader_pos', 'vader_compound',\n",
    "       'roberta_neg', 'roberta_neu', 'roberta_pos'],hue = 'Score',palette = 'tab10')\n",
    "plt.show()"
   ]
  },
  {
   "cell_type": "markdown",
   "id": "29397d50",
   "metadata": {
    "papermill": {
     "duration": null,
     "end_time": null,
     "exception": null,
     "start_time": null,
     "status": "pending"
    },
    "tags": []
   },
   "source": [
    "# Sentiment is positive but the review is low"
   ]
  },
  {
   "cell_type": "code",
   "execution_count": null,
   "id": "1d1bcc75",
   "metadata": {
    "execution": {
     "iopub.execute_input": "2025-03-12T13:48:14.509226Z",
     "iopub.status.busy": "2025-03-12T13:48:14.508895Z",
     "iopub.status.idle": "2025-03-12T13:48:14.524504Z",
     "shell.execute_reply": "2025-03-12T13:48:14.523072Z",
     "shell.execute_reply.started": "2025-03-12T13:48:14.509195Z"
    },
    "papermill": {
     "duration": null,
     "end_time": null,
     "exception": null,
     "start_time": null,
     "status": "pending"
    },
    "tags": []
   },
   "outputs": [],
   "source": [
    "result_df.query('Score == 1').sort_values(\n",
    "    'roberta_pos',ascending = False)['Text'].values[0]"
   ]
  },
  {
   "cell_type": "code",
   "execution_count": null,
   "id": "cec141ce",
   "metadata": {
    "execution": {
     "iopub.execute_input": "2025-03-12T13:48:14.526832Z",
     "iopub.status.busy": "2025-03-12T13:48:14.526326Z",
     "iopub.status.idle": "2025-03-12T13:48:14.551938Z",
     "shell.execute_reply": "2025-03-12T13:48:14.550720Z",
     "shell.execute_reply.started": "2025-03-12T13:48:14.526784Z"
    },
    "papermill": {
     "duration": null,
     "end_time": null,
     "exception": null,
     "start_time": null,
     "status": "pending"
    },
    "tags": []
   },
   "outputs": [],
   "source": [
    "result_df.query('Score == 1').sort_values(\n",
    "    'vader_pos',ascending = False)['Text'].values[0]"
   ]
  },
  {
   "cell_type": "markdown",
   "id": "c2368636",
   "metadata": {
    "papermill": {
     "duration": null,
     "end_time": null,
     "exception": null,
     "start_time": null,
     "status": "pending"
    },
    "tags": []
   },
   "source": [
    "# Sentiment is negative but the review is high example"
   ]
  },
  {
   "cell_type": "code",
   "execution_count": null,
   "id": "3fab1889",
   "metadata": {
    "execution": {
     "iopub.execute_input": "2025-03-12T13:48:14.553468Z",
     "iopub.status.busy": "2025-03-12T13:48:14.553081Z",
     "iopub.status.idle": "2025-03-12T13:48:14.577889Z",
     "shell.execute_reply": "2025-03-12T13:48:14.576842Z",
     "shell.execute_reply.started": "2025-03-12T13:48:14.553421Z"
    },
    "papermill": {
     "duration": null,
     "end_time": null,
     "exception": null,
     "start_time": null,
     "status": "pending"
    },
    "tags": []
   },
   "outputs": [],
   "source": [
    "result_df.query('Score == 5').sort_values(\n",
    "    'roberta_neg',ascending = False)['Text'].values[0]"
   ]
  },
  {
   "cell_type": "code",
   "execution_count": null,
   "id": "40a077fe",
   "metadata": {
    "execution": {
     "iopub.execute_input": "2025-03-12T13:48:14.579815Z",
     "iopub.status.busy": "2025-03-12T13:48:14.579199Z",
     "iopub.status.idle": "2025-03-12T13:48:14.604362Z",
     "shell.execute_reply": "2025-03-12T13:48:14.603086Z",
     "shell.execute_reply.started": "2025-03-12T13:48:14.579773Z"
    },
    "papermill": {
     "duration": null,
     "end_time": null,
     "exception": null,
     "start_time": null,
     "status": "pending"
    },
    "tags": []
   },
   "outputs": [],
   "source": [
    "result_df.query('Score == 5').sort_values(\n",
    "    'vader_neg',ascending = False)['Text'].values[0]"
   ]
  }
 ],
 "metadata": {
  "kaggle": {
   "accelerator": "none",
   "dataSources": [
    {
     "datasetId": 6847870,
     "sourceId": 11000418,
     "sourceType": "datasetVersion"
    }
   ],
   "dockerImageVersionId": 30918,
   "isGpuEnabled": false,
   "isInternetEnabled": true,
   "language": "python",
   "sourceType": "notebook"
  },
  "kernelspec": {
   "display_name": "Python 3",
   "language": "python",
   "name": "python3"
  },
  "language_info": {
   "codemirror_mode": {
    "name": "ipython",
    "version": 3
   },
   "file_extension": ".py",
   "mimetype": "text/x-python",
   "name": "python",
   "nbconvert_exporter": "python",
   "pygments_lexer": "ipython3",
   "version": "3.10.12"
  },
  "papermill": {
   "default_parameters": {},
   "duration": 7.299089,
   "end_time": "2025-03-12T13:49:28.809837",
   "environment_variables": {},
   "exception": true,
   "input_path": "__notebook__.ipynb",
   "output_path": "__notebook__.ipynb",
   "parameters": {},
   "start_time": "2025-03-12T13:49:21.510748",
   "version": "2.6.0"
  }
 },
 "nbformat": 4,
 "nbformat_minor": 5
}
